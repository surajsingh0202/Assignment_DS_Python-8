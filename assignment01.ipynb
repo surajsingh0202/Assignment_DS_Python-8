{
 "cells": [
  {
   "cell_type": "code",
   "execution_count": 21,
   "id": "40f34fc8-2de9-4498-9487-4cfd0817810a",
   "metadata": {},
   "outputs": [
    {
     "data": {
      "text/plain": [
       "'\\nan exception is a type of error that occurs when a syntactically correct Python code raises an error.\\n An arrow indicates the line where the exception occurred,\\n while the last line of the error message specifies the exact \\ntype of exception and provides its description to facilitate debugging.\\n\\nErrors indicate unrecoverable system issues beyond program control. In contrast,\\nexceptions represent unexpected events within the program that can often be handled gracefully\\n\\n\\n'"
      ]
     },
     "execution_count": 21,
     "metadata": {},
     "output_type": "execute_result"
    }
   ],
   "source": [
    "##Q1. What is an Exception in python? Write the difference between Exceptions and Syntax errors.\n",
    "\n",
    "'''\n",
    "an exception is a type of error that occurs when a syntactically correct Python code raises an error.\n",
    " An arrow indicates the line where the exception occurred,\n",
    " while the last line of the error message specifies the exact \n",
    "type of exception and provides its description to facilitate debugging.\n",
    "\n",
    "Errors indicate unrecoverable system issues beyond program control. In contrast,\n",
    "exceptions represent unexpected events within the program that can often be handled gracefully\n",
    "\n",
    "\n",
    "'''"
   ]
  },
  {
   "cell_type": "code",
   "execution_count": 23,
   "id": "c29a1a76-3688-4747-b9b3-f8810213086e",
   "metadata": {},
   "outputs": [
    {
     "data": {
      "text/plain": [
       "'\\nIf an exception is not caught (with a catch block), the runtime system will abort \\nthe program (i.e. crash) and an exception message will print to the console. \\nThe message typically includes: name of exception type.\\n\\n'"
      ]
     },
     "execution_count": 23,
     "metadata": {},
     "output_type": "execute_result"
    }
   ],
   "source": [
    "##Q2. What happens when an exception is not handled? Explain with an example.\n",
    "\n",
    "'''\n",
    "If an exception is not caught (with a catch block), the runtime system will abort \n",
    "the program (i.e. crash) and an exception message will print to the console. \n",
    "The message typically includes: name of exception type.\n",
    "\n",
    "'''"
   ]
  },
  {
   "cell_type": "code",
   "execution_count": 25,
   "id": "d8788c77-21d2-4545-8731-7a10d409bb58",
   "metadata": {},
   "outputs": [
    {
     "data": {
      "text/plain": [
       "'\\nTry and except statements are used to catch and handle exceptions in Python. \\nStatements that can raise exceptions are wrapped inside \\nthe try block and the statements that handle the exception are written inside except block.\\n\\ne.g. amount = 10000\\nif(amount > 2999)\\nprint(\"You are eligible to purchase Dsa Self Paced\")\\n'"
      ]
     },
     "execution_count": 25,
     "metadata": {},
     "output_type": "execute_result"
    }
   ],
   "source": [
    "##Q3. Which Python statements are used to catch and handle exceptions? Explain with an example.\n",
    "\n",
    "'''\n",
    "Try and except statements are used to catch and handle exceptions in Python. \n",
    "Statements that can raise exceptions are wrapped inside \n",
    "the try block and the statements that handle the exception are written inside except block.\n",
    "\n",
    "e.g. amount = 10000\n",
    "if(amount > 2999)\n",
    "print(\"You are eligible to purchase Dsa Self Paced\")\n",
    "'''"
   ]
  },
  {
   "cell_type": "code",
   "execution_count": 27,
   "id": "081deff5-6375-4710-b8c8-e6f3545849af",
   "metadata": {},
   "outputs": [
    {
     "data": {
      "text/plain": [
       "'\\n(a).try : Code that might cause an exception. except : Code that handles the exception. \\nelse : Code that runs if the try block does not raise an exception. \\nfinally : Code that always runs, whether an exception occurred or not\\n\\ne.g. def divide(x, y): \\n    try: \\n        # Floor Division : Gives only Fractional\\n        # Part as Answer \\n        result = x // y \\n    except ZeroDivisionError: \\n        print(\"Sorry ! You are dividing by zero \") \\n    else:\\n        print(\"Yeah ! Your answer is :\", result) \\n(b)The finally keyword is used in try... except blocks. \\nIt defines a block of code to run when the try... except...else block is final. \\nThe finally block will be executed no matter if the try block raises an error or not.\\ne.g.def divide(x, y): \\n    try: \\n        # Floor Division : Gives only Fractional \\n        # Part as Answer \\n        result = x // y \\n    except ZeroDivisionError: \\n        print(\"Sorry ! You are dividing by zero \") \\n    else:\\n        print(\"Yeah ! Your answer is :\", result) \\n    finally:  \\n        # this block is always executed   \\n        # regardless of exception generation.  \\n        print(\\'This is always executed\\')\\n(c.)The Python interpreter raises an exception each time it detects an error in an expression or statement. \\nUsers can also raise exceptions with raise and assert statements. Raising exceptions.\\n An exception is a object instance with a class that inherits, either directly or indirectly, from the BaseException class.\\ne.g.x = -1\\n\\nif x < 0:\\n  raise Exception(\"Sorry, no numbers below zero\")\\n'"
      ]
     },
     "execution_count": 27,
     "metadata": {},
     "output_type": "execute_result"
    }
   ],
   "source": [
    "'''\n",
    "Q4. Explain with an example:#\n",
    " a.try and else#\n",
    " b.finall\n",
    " c.raise\n",
    "\n",
    "'''\n",
    "\n",
    "\n",
    "'''\n",
    "(a).try : Code that might cause an exception. except : Code that handles the exception. \n",
    "else : Code that runs if the try block does not raise an exception. \n",
    "finally : Code that always runs, whether an exception occurred or not\n",
    "\n",
    "e.g. def divide(x, y): \n",
    "    try: \n",
    "        # Floor Division : Gives only Fractional\n",
    "        # Part as Answer \n",
    "        result = x // y \n",
    "    except ZeroDivisionError: \n",
    "        print(\"Sorry ! You are dividing by zero \") \n",
    "    else:\n",
    "        print(\"Yeah ! Your answer is :\", result) \n",
    "(b)The finally keyword is used in try... except blocks. \n",
    "It defines a block of code to run when the try... except...else block is final. \n",
    "The finally block will be executed no matter if the try block raises an error or not.\n",
    "e.g.def divide(x, y): \n",
    "    try: \n",
    "        # Floor Division : Gives only Fractional \n",
    "        # Part as Answer \n",
    "        result = x // y \n",
    "    except ZeroDivisionError: \n",
    "        print(\"Sorry ! You are dividing by zero \") \n",
    "    else:\n",
    "        print(\"Yeah ! Your answer is :\", result) \n",
    "    finally:  \n",
    "        # this block is always executed   \n",
    "        # regardless of exception generation.  \n",
    "        print('This is always executed')\n",
    "(c.)The Python interpreter raises an exception each time it detects an error in an expression or statement. \n",
    "Users can also raise exceptions with raise and assert statements. Raising exceptions.\n",
    " An exception is a object instance with a class that inherits, either directly or indirectly, from the BaseException class.\n",
    "e.g.x = -1\n",
    "\n",
    "if x < 0:\n",
    "  raise Exception(\"Sorry, no numbers below zero\")\n",
    "'''"
   ]
  },
  {
   "cell_type": "code",
   "execution_count": 29,
   "id": "90e68066-9795-4ed6-b3ed-8871f39a39f7",
   "metadata": {},
   "outputs": [
    {
     "data": {
      "text/plain": [
       "\"\\nCustom exceptions are helpful in many situations. \\nThey allow you to define your own error conditions and handle them in a more specific and meaningful way. \\n\\nHaving custom exceptions - tailored to your specific use cases and that you can raise and catch in \\nspecific circumstances - can make your code much more readable and robust, \\nand reduce the amount of code you write later to try and figure out what exactly went wrong.\\n\\ne.g.For example, let's say you are writing a program that reads data from a file. \\nIf the file is not found, Python will raise a FileNotFoundError \\n\""
      ]
     },
     "execution_count": 29,
     "metadata": {},
     "output_type": "execute_result"
    }
   ],
   "source": [
    "##Q5. What are Custom Exceptions in python? Why do we need Custom Exceptions? Explain with an example.\n",
    "\n",
    "'''\n",
    "Custom exceptions are helpful in many situations. \n",
    "They allow you to define your own error conditions and handle them in a more specific and meaningful way. \n",
    "\n",
    "Having custom exceptions - tailored to your specific use cases and that you can raise and catch in \n",
    "specific circumstances - can make your code much more readable and robust, \n",
    "and reduce the amount of code you write later to try and figure out what exactly went wrong.\n",
    "\n",
    "e.g.For example, let's say you are writing a program that reads data from a file. \n",
    "If the file is not found, Python will raise a FileNotFoundError \n",
    "'''"
   ]
  },
  {
   "cell_type": "code",
   "execution_count": 31,
   "id": "547ec545-9a5e-42d4-bdf6-b5e062d2dc65",
   "metadata": {},
   "outputs": [
    {
     "data": {
      "text/plain": [
       "'\\n# define Python user-defined exceptions\\nclass InvalidAgeException(Exception):\\n    \"Raised when the input value is less than 18\"\\n    pass\\n\\n# you need to guess this number\\nnumber = 18\\n\\ntry:\\n    input_num = int(input(\"Enter a number: \"))\\n    if input_num < number:\\n        raise InvalidAgeException\\n    else:\\n        print(\"Eligible to Vote\")\\n        \\nexcept InvalidAgeException:\\n    print(\"Exception occurred: Invalid Age\")\\n'"
      ]
     },
     "execution_count": 31,
     "metadata": {},
     "output_type": "execute_result"
    }
   ],
   "source": [
    "##Q6. Create a custom exception class. Use this class to handle an exception.\n",
    "\n",
    "'''\n",
    "# define Python user-defined exceptions\n",
    "class InvalidAgeException(Exception):\n",
    "    \"Raised when the input value is less than 18\"\n",
    "    pass\n",
    "\n",
    "# you need to guess this number\n",
    "number = 18\n",
    "\n",
    "try:\n",
    "    input_num = int(input(\"Enter a number: \"))\n",
    "    if input_num < number:\n",
    "        raise InvalidAgeException\n",
    "    else:\n",
    "        print(\"Eligible to Vote\")\n",
    "        \n",
    "except InvalidAgeException:\n",
    "    print(\"Exception occurred: Invalid Age\")\n",
    "'''"
   ]
  },
  {
   "cell_type": "code",
   "execution_count": null,
   "id": "11b718b7-ec8e-43f8-a8ac-3c1a6875c50a",
   "metadata": {},
   "outputs": [],
   "source": []
  }
 ],
 "metadata": {
  "kernelspec": {
   "display_name": "Python 3 (ipykernel)",
   "language": "python",
   "name": "python3"
  },
  "language_info": {
   "codemirror_mode": {
    "name": "ipython",
    "version": 3
   },
   "file_extension": ".py",
   "mimetype": "text/x-python",
   "name": "python",
   "nbconvert_exporter": "python",
   "pygments_lexer": "ipython3",
   "version": "3.12.4"
  }
 },
 "nbformat": 4,
 "nbformat_minor": 5
}
